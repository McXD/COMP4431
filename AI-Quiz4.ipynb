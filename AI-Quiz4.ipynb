{
 "cells": [
  {
   "cell_type": "markdown",
   "id": "royal-firmware",
   "metadata": {},
   "source": [
    "**Data:**\n",
    "<img src=\"tree-data.png\" width=500/>"
   ]
  },
  {
   "cell_type": "code",
   "execution_count": 1,
   "id": "unknown-commitment",
   "metadata": {},
   "outputs": [],
   "source": [
    "import numpy as np\n",
    "from scipy.stats import entropy"
   ]
  },
  {
   "cell_type": "code",
   "execution_count": 2,
   "id": "significant-isolation",
   "metadata": {},
   "outputs": [],
   "source": [
    "f1s = [2,2,2,2,1,1,1,1,1,1,2,2,1,1,2,2,1,1,1,1]\n",
    "f2s = [1,2,2,1,1,2,2,1,2,2,2,2,2,2,1,1,1,1,1,2]\n",
    "f3s = [1,1,1,1,1,1,1,1,1,1,2,2,2,2,2,2,2,2,2,2]\n",
    "f4s = [1,1,1,3,3,2,2,1,1,1,3,3,2,3,3,3,2,2,1,1]\n",
    "f5s = [2,2,2,2,2,2,2,2,2,2,1,1,1,1,1,1,1,1,1,1]\n",
    "lbs = [1,0,0,0,1,1,1,1,0,0,0,0,1,1,0,0,1,1,1,0]\n",
    "\n",
    "fs = [f1s, f2s, f3s, f4s, f5s]"
   ]
  },
  {
   "cell_type": "code",
   "execution_count": 3,
   "id": "superb-providence",
   "metadata": {},
   "outputs": [],
   "source": [
    "# Base entropy\n",
    "cur_ent = entropy(np.bincount(lbs), base=2)"
   ]
  },
  {
   "cell_type": "code",
   "execution_count": 4,
   "id": "ideal-christianity",
   "metadata": {},
   "outputs": [],
   "source": [
    "ents = []\n",
    "\n",
    "for f in fs:\n",
    "    branches = np.unique(f)\n",
    "    weighted_ents = []\n",
    "    \n",
    "    for val in branches:\n",
    "        zeros = 0\n",
    "        ones = 0\n",
    "        for i in range(20):\n",
    "            if f[i] == val:\n",
    "                if lbs[i] == 0:\n",
    "                    zeros += 1\n",
    "                else:\n",
    "                    ones += 1\n",
    "        weighted_ents.append((zeros + ones) * entropy([zeros, ones], base=2) / 20)\n",
    "    ents.append(sum(weighted_ents))"
   ]
  },
  {
   "cell_type": "code",
   "execution_count": 5,
   "id": "civilian-newman",
   "metadata": {},
   "outputs": [],
   "source": [
    "ents = np.array(ents)\n",
    "ig = cur_ent - ents"
   ]
  },
  {
   "cell_type": "code",
   "execution_count": 6,
   "id": "private-shanghai",
   "metadata": {},
   "outputs": [
    {
     "name": "stdout",
     "output_type": "stream",
     "text": [
      "Information Gain for F1: 0.296\n",
      "Information Gain for F2: 0.067\n",
      "Information Gain for F3: 0.0\n",
      "Information Gain for F4: 0.316\n",
      "Information Gain for F5: 0.0\n"
     ]
    }
   ],
   "source": [
    "for i in range(5):\n",
    "    print(f'Information Gain for F{i+1}: {round(ig[i],3)}')"
   ]
  }
 ],
 "metadata": {
  "kernelspec": {
   "display_name": "Python 3",
   "language": "python",
   "name": "python3"
  },
  "language_info": {
   "codemirror_mode": {
    "name": "ipython",
    "version": 3
   },
   "file_extension": ".py",
   "mimetype": "text/x-python",
   "name": "python",
   "nbconvert_exporter": "python",
   "pygments_lexer": "ipython3",
   "version": "3.8.2"
  }
 },
 "nbformat": 4,
 "nbformat_minor": 5
}
