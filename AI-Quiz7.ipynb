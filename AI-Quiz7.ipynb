{
 "cells": [
  {
   "cell_type": "code",
   "execution_count": 24,
   "id": "fcbc2bdd",
   "metadata": {},
   "outputs": [],
   "source": [
    "import numpy as np\n",
    "import matplotlib.pyplot as plt\n",
    "from sklearn.svm import SVC"
   ]
  },
  {
   "cell_type": "code",
   "execution_count": 19,
   "id": "af30511c",
   "metadata": {},
   "outputs": [],
   "source": [
    "X = np.array([[3,4],\n",
    "              [5,1],\n",
    "              [5,2],\n",
    "              [5,5],\n",
    "              [6,3]])\n",
    "Y = np.array([1,-1,-1,1,-1])"
   ]
  },
  {
   "cell_type": "code",
   "execution_count": 20,
   "id": "6cc81e53",
   "metadata": {},
   "outputs": [],
   "source": [
    "clf = SVC(kernel=\"linear\").fit(X, Y)"
   ]
  },
  {
   "cell_type": "markdown",
   "id": "2a748679",
   "metadata": {},
   "source": [
    "## Support Vectors"
   ]
  },
  {
   "cell_type": "code",
   "execution_count": 23,
   "id": "634f13a4",
   "metadata": {},
   "outputs": [
    {
     "name": "stdout",
     "output_type": "stream",
     "text": [
      "[[6. 3.]\n",
      " [5. 5.]]\n"
     ]
    }
   ],
   "source": [
    "print(clf.support_vectors_)"
   ]
  },
  {
   "cell_type": "markdown",
   "id": "30a7bf00",
   "metadata": {},
   "source": [
    "## Visualise the SVM "
   ]
  },
  {
   "cell_type": "code",
   "execution_count": 48,
   "id": "13c42b36",
   "metadata": {},
   "outputs": [
    {
     "data": {
      "image/png": "[encoded data removed]",
      "text/plain": [
       "<Figure size 432x288 with 1 Axes>"
      ]
     },
     "metadata": {
      "needs_background": "light"
     },
     "output_type": "display_data"
    }
   ],
   "source": [
    "plt.scatter(X[:, 0], X[:, 1], c=['r', 'b', 'b', 'r', 'b']) # data\n",
    "\n",
    "svs = clf.support_vectors_\n",
    "plt.scatter(svs[:, 0], svs[:, 1], c=['g','g']) # support vectors\n",
    "\n",
    "# lines\n",
    "\n",
    "ax = plt.gca()\n",
    "xlim = ax.get_xlim()\n",
    "ylim = ax.get_ylim()\n",
    "\n",
    "xx = np.linspace(xlim[0], xlim[1], 30)\n",
    "yy = np.linspace(ylim[0], ylim[1], 30)\n",
    "YY, XX = np.meshgrid(yy, xx)\n",
    "xy = np.vstack([XX.ravel(), YY.ravel()]).T\n",
    "Z = clf.decision_function(xy).reshape(XX.shape)\n",
    "\n",
    "ax.contour(XX, YY, Z, colors='k', levels=[-1, 0, 1], alpha=0.5,\n",
    "           linestyles=['--', '-', '--'])\n",
    "\n",
    "plt.show()"
   ]
  }
 ],
 "metadata": {
  "kernelspec": {
   "display_name": "Python 3 (ipykernel)",
   "language": "python",
   "name": "python3"
  },
  "language_info": {
   "codemirror_mode": {
    "name": "ipython",
    "version": 3
   },
   "file_extension": ".py",
   "mimetype": "text/x-python",
   "name": "python",
   "nbconvert_exporter": "python",
   "pygments_lexer": "ipython3",
   "version": "3.8.2"
  }
 },
 "nbformat": 4,
 "nbformat_minor": 5
}
