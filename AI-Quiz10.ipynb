{
 "cells": [
  {
   "cell_type": "code",
   "execution_count": 1,
   "id": "23cdebd7",
   "metadata": {},
   "outputs": [],
   "source": [
    "import numpy as np\n",
    "import matplotlib.pyplot as plt"
   ]
  },
  {
   "cell_type": "code",
   "execution_count": 2,
   "id": "ae51c08d",
   "metadata": {},
   "outputs": [],
   "source": [
    "X = np.array(\n",
    "    [\n",
    "        [-8.8, 2],\n",
    "        [-7.8, 2], \n",
    "        [-7, 1],\n",
    "        [-8.5, 1],\n",
    "        [-3.7, -3],\n",
    "        [-2.8, -3.5],\n",
    "        [-2.4, -4], \n",
    "        [-2.4, -4.8],\n",
    "        [-3.5, -4.5], \n",
    "        [-3.8, -3.8]\n",
    "    ]\n",
    ")"
   ]
  },
  {
   "cell_type": "code",
   "execution_count": 3,
   "id": "42f01aab",
   "metadata": {},
   "outputs": [
    {
     "data": {
      "image/png": "[encoded data removed]",
      "text/plain": [
       "<Figure size 432x288 with 1 Axes>"
      ]
     },
     "metadata": {
      "needs_background": "light"
     },
     "output_type": "display_data"
    }
   ],
   "source": [
    "# visulize the data\n",
    "fig = plt.scatter(X[:,0], X[:,1])"
   ]
  },
  {
   "cell_type": "code",
   "execution_count": 4,
   "id": "aaeddf50",
   "metadata": {},
   "outputs": [],
   "source": [
    "def dist(p1, p2):\n",
    "    \"\"\"\n",
    "    Calculate Eclidien Distance\n",
    "    \"\"\"\n",
    "    return np.linalg.norm(p1 - p2)"
   ]
  },
  {
   "cell_type": "code",
   "execution_count": 5,
   "id": "f8e152a1",
   "metadata": {},
   "outputs": [],
   "source": [
    "def kmeans(data, means):\n",
    "    \"\"\"\n",
    "    Return the cluster according to the means;\n",
    "    Update means at the same same\n",
    "    \"\"\"\n",
    "    \n",
    "    print(f\"Initial means: {means}\")\n",
    "    print()\n",
    "    n_cluster = len(means)\n",
    "    clusters = [[] for i in range(n_cluster)]\n",
    "    \n",
    "    for point in data:\n",
    "        # find the cluster this data point belongs to\n",
    "        max_ind = -1\n",
    "        max_val = -1\n",
    "        for i in range(len(means)):\n",
    "            cur_dist = dist(point, means[i])\n",
    "            if cur_dist > max_val:\n",
    "                max_ind = i\n",
    "                max_val = cur_dist\n",
    "        \n",
    "        clusters[max_ind].append(point)\n",
    "        \n",
    "    print(f\"Clusters:\")\n",
    "    for i in range(n_cluster):\n",
    "        print(f\"\\t({i+1}): {clusters[i]}\")\n",
    "    \n",
    "    print()\n",
    "    # update means\n",
    "    for i in range(len(means)):\n",
    "        means[i] = np.mean(clusters[i], axis=0)\n",
    "        \n",
    "    print(f\"Updated means: {means}\")\n",
    "        \n",
    "    return clusters"
   ]
  },
  {
   "cell_type": "code",
   "execution_count": 6,
   "id": "bf5ffe03",
   "metadata": {},
   "outputs": [
    {
     "name": "stdout",
     "output_type": "stream",
     "text": [
      "Round: 1\n",
      "Initial means: [array([-3.5,  0. ]), array([-6.5, -3.5])]\n",
      "\n",
      "Clusters:\n",
      "\t(1): [array([-8.5,  1. ]), array([-3.7, -3. ]), array([-2.4, -4. ]), array([-2.4, -4.8]), array([-3.5, -4.5]), array([-3.8, -3.8])]\n",
      "\t(2): [array([-8.8,  2. ]), array([-7.8,  2. ]), array([-7.,  1.]), array([-2.8, -3.5])]\n",
      "\n",
      "Updated means: [array([-4.05      , -3.18333333]), array([-6.6  ,  0.375])]\n",
      "--------------------------------------------------------------------------------------------------------------\n",
      "Round: 2\n",
      "Initial means: [array([-4.05      , -3.18333333]), array([-6.6  ,  0.375])]\n",
      "\n",
      "Clusters:\n",
      "\t(1): [array([-8.8,  2. ]), array([-7.8,  2. ]), array([-7.,  1.]), array([-8.5,  1. ])]\n",
      "\t(2): [array([-3.7, -3. ]), array([-2.8, -3.5]), array([-2.4, -4. ]), array([-2.4, -4.8]), array([-3.5, -4.5]), array([-3.8, -3.8])]\n",
      "\n",
      "Updated means: [array([-8.025,  1.5  ]), array([-3.1       , -3.93333333])]\n",
      "--------------------------------------------------------------------------------------------------------------\n",
      "Round: 3\n",
      "Initial means: [array([-8.025,  1.5  ]), array([-3.1       , -3.93333333])]\n",
      "\n",
      "Clusters:\n",
      "\t(1): [array([-3.7, -3. ]), array([-2.8, -3.5]), array([-2.4, -4. ]), array([-2.4, -4.8]), array([-3.5, -4.5]), array([-3.8, -3.8])]\n",
      "\t(2): [array([-8.8,  2. ]), array([-7.8,  2. ]), array([-7.,  1.]), array([-8.5,  1. ])]\n",
      "\n",
      "Updated means: [array([-3.1       , -3.93333333]), array([-8.025,  1.5  ])]\n",
      "--------------------------------------------------------------------------------------------------------------\n"
     ]
    }
   ],
   "source": [
    "clusters = [1]\n",
    "means = [\n",
    "    np.array([-3.5, 0]),\n",
    "    np.array([-6.5, -3.5])\n",
    "]\n",
    "means_cpy = []\n",
    "\n",
    "\n",
    "counter = 0\n",
    "while not np.array_equal(np.sort(np.array(means).flat), np.sort(np.array(means_cpy).flat)): # iterate utill means do not update\n",
    "    counter += 1\n",
    "    print(f\"Round: {counter}\")\n",
    "    \n",
    "    means_cpy = means.copy()\n",
    "    clusters = kmeans(X, means)\n",
    "    print(\"-\" * 110)"
   ]
  }
 ],
 "metadata": {
  "kernelspec": {
   "display_name": "Python 3 (ipykernel)",
   "language": "python",
   "name": "python3"
  },
  "language_info": {
   "codemirror_mode": {
    "name": "ipython",
    "version": 3
   },
   "file_extension": ".py",
   "mimetype": "text/x-python",
   "name": "python",
   "nbconvert_exporter": "python",
   "pygments_lexer": "ipython3",
   "version": "3.8.2"
  }
 },
 "nbformat": 4,
 "nbformat_minor": 5
}
