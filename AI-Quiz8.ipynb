{
 "cells": [
  {
   "cell_type": "code",
   "execution_count": 1,
   "id": "96fb5498",
   "metadata": {},
   "outputs": [],
   "source": [
    "import numpy as np"
   ]
  },
  {
   "cell_type": "code",
   "execution_count": 2,
   "id": "5ffbf407",
   "metadata": {},
   "outputs": [],
   "source": [
    "X = np.array([\n",
    "        [-0.120, 0.200, -0.370, -0.100],\n",
    "        [0.300, -0.030, 0.250, 0.140],\n",
    "        [-0.010, -0.350, 0.070, -0.520],\n",
    "        [0.030, 0.060, 0.130, 0.290],\n",
    "        [0.380, 0.170, -0.020, 0.330],\n",
    "        [-0.020, -0.580, -0.480, 0.260],\n",
    "        [-0.120, 0.240, -0.390, -0.050],\n",
    "        [0.030, -0.570, 0.010, -0.240]\n",
    "    ])\n",
    "\n",
    "y = np.array([1, -1, -1, 1, 1, -1, 1, -1])"
   ]
  },
  {
   "cell_type": "code",
   "execution_count": 3,
   "id": "1175d818",
   "metadata": {},
   "outputs": [],
   "source": [
    "def sgn(x):\n",
    "    return x/abs(x)"
   ]
  },
  {
   "cell_type": "code",
   "execution_count": 4,
   "id": "4e7c5b55",
   "metadata": {},
   "outputs": [],
   "source": [
    "def pla():  # Perceptron Learning Algorithm\n",
    "    round_cnt = 1  # Round counter\n",
    "    r = 0.2  # learning rate\n",
    "    w = np.array([-0.09, 0, -0.19, -0.21])  # initialization\n",
    "    converged = False\n",
    "    \n",
    "    while not converged:\n",
    "        y_pre = [sgn(np.inner(x, w)) for x in X]  # current classification\n",
    "        \n",
    "        print(f\"Round {round_cnt}:\")\n",
    "        print(f\"\\tInitial w: {w}\")\n",
    "        print(f\"\\tInitial classification: {y_pre}\")\n",
    "        \n",
    "        for i in range(8):  # Iteration\n",
    "            y_est = sgn(np.inner(X[i], w))\n",
    "            w = w + r * (y[i] - y_est) * X[i]\n",
    "        \n",
    "        y_post = [sgn(np.inner(x, w)) for x in X]  # new classification\n",
    "        converged = np.array_equal(y_pre, y_post)  # stop when classfication does not change\n",
    "        \n",
    "        print(f\"\\tUpdated w: {w}\")\n",
    "        print(f\"\\tUpdated classification: {y_post}\")\n",
    "        if (converged):\n",
    "            print()\n",
    "            print(\"Converged. Iteration stop\")\n",
    "        \n",
    "        round_cnt += 1\n",
    "    \n",
    "    return w"
   ]
  },
  {
   "cell_type": "code",
   "execution_count": 5,
   "id": "0aa3e247",
   "metadata": {},
   "outputs": [
    {
     "name": "stdout",
     "output_type": "stream",
     "text": [
      "Round 1:\n",
      "\tInitial w: [-0.09  0.   -0.19 -0.21]\n",
      "\tInitial classification: [1.0, -1.0, 1.0, -1.0, -1.0, 1.0, 1.0, 1.0]\n",
      "\tUpdated w: [-0.066  0.396  0.026  0.01 ]\n",
      "\tUpdated classification: [1.0, -1.0, -1.0, 1.0, 1.0, -1.0, 1.0, -1.0]\n",
      "Round 2:\n",
      "\tInitial w: [-0.066  0.396  0.026  0.01 ]\n",
      "\tInitial classification: [1.0, -1.0, -1.0, 1.0, 1.0, -1.0, 1.0, -1.0]\n",
      "\tUpdated w: [-0.066  0.396  0.026  0.01 ]\n",
      "\tUpdated classification: [1.0, -1.0, -1.0, 1.0, 1.0, -1.0, 1.0, -1.0]\n",
      "\n",
      "Converged. Iteration stop\n"
     ]
    },
    {
     "data": {
      "text/plain": [
       "array([-0.066,  0.396,  0.026,  0.01 ])"
      ]
     },
     "execution_count": 5,
     "metadata": {},
     "output_type": "execute_result"
    }
   ],
   "source": [
    "pla()"
   ]
  }
 ],
 "metadata": {
  "kernelspec": {
   "display_name": "Python 3 (ipykernel)",
   "language": "python",
   "name": "python3"
  },
  "language_info": {
   "codemirror_mode": {
    "name": "ipython",
    "version": 3
   },
   "file_extension": ".py",
   "mimetype": "text/x-python",
   "name": "python",
   "nbconvert_exporter": "python",
   "pygments_lexer": "ipython3",
   "version": "3.8.2"
  }
 },
 "nbformat": 4,
 "nbformat_minor": 5
}
