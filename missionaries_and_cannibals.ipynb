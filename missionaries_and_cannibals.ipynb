{
 "cells": [
  {
   "cell_type": "markdown",
   "id": "00a25b78",
   "metadata": {},
   "source": [
    "# Problem Statement\n",
    "\n",
    "The missionaries and cannibals problem is usually stated as follows. Three missionaries\n",
    "and three cannibals are on one side of a river, along with a boat that can hold one or\n",
    "two people. Find a way to get everyone to the other side without ever leaving a group of missionaries\n",
    "in one place outnumbered by the cannibals in that place."
   ]
  },
  {
   "cell_type": "code",
   "execution_count": 11,
   "id": "00defffc",
   "metadata": {},
   "outputs": [],
   "source": [
    "import networkx as nx\n",
    "import matplotlib.pyplot as plt"
   ]
  },
  {
   "cell_type": "code",
   "execution_count": 2,
   "id": "849e30b5",
   "metadata": {},
   "outputs": [],
   "source": [
    "# All possible states with loose constraints\n",
    "# States are in this format ($missionary_number_west, $cannibal_number_west, $boat_position)\n",
    "\n",
    "states = []\n",
    "for m in range(4):\n",
    "    for c in range(4):\n",
    "        if m == 0 or m >= c:  # missionaries cannot be out-numbered by cannibals\n",
    "            states.append((m,c,'W'))\n",
    "            states.append((m,c,'E'))"
   ]
  },
  {
   "cell_type": "code",
   "execution_count": 3,
   "id": "8eff8d12",
   "metadata": {},
   "outputs": [],
   "source": [
    "edges = []\n",
    "for i in states:\n",
    "    for j in states:\n",
    "        if i[-1] == 'E' and j[-1] == 'W':  # number of people must increase when going from East to West\n",
    "            if i[0] <= j[0] and i[1] <= j[1]:\n",
    "                if 1 <= j[0] - i[0] + j[1] - i[1] <=2:  # boat capacity\n",
    "                    edges.append((i,j))\n",
    "        elif i[-1] == 'W' and j[-1] == 'E':  # number of people must decrease when going from West to East\n",
    "            if i[0] >= j[0] and i[1] >= j[1]:\n",
    "                if 1 <= i[0] - j[0] + i[1] - j[1] <=2:  # boat capacity\n",
    "                    edges.append((i,j))"
   ]
  },
  {
   "cell_type": "code",
   "execution_count": 4,
   "id": "5e592d41",
   "metadata": {},
   "outputs": [],
   "source": [
    "G = nx.Graph()\n",
    "G.add_nodes_from(states)\n",
    "G.add_edges_from(edges)"
   ]
  },
  {
   "cell_type": "code",
   "execution_count": 6,
   "id": "22683f66",
   "metadata": {},
   "outputs": [
    {
     "data": {
      "text/plain": [
       "[(3, 3, 'W'),\n",
       " (2, 2, 'E'),\n",
       " (3, 2, 'W'),\n",
       " (2, 1, 'E'),\n",
       " (2, 2, 'W'),\n",
       " (0, 2, 'E'),\n",
       " (0, 3, 'W'),\n",
       " (0, 1, 'E'),\n",
       " (0, 2, 'W'),\n",
       " (0, 0, 'E')]"
      ]
     },
     "execution_count": 6,
     "metadata": {},
     "output_type": "execute_result"
    }
   ],
   "source": [
    "nx.shortest_path(G, (3,3,'W'), (0,0,'E'))"
   ]
  },
  {
   "cell_type": "code",
   "execution_count": 8,
   "id": "649fffbe",
   "metadata": {},
   "outputs": [],
   "source": [
    "bfs_tree = nx.bfs_tree(G, (3,3,'W'))"
   ]
  }
 ],
 "metadata": {
  "kernelspec": {
   "display_name": "Python 3 (ipykernel)",
   "language": "python",
   "name": "python3"
  },
  "language_info": {
   "codemirror_mode": {
    "name": "ipython",
    "version": 3
   },
   "file_extension": ".py",
   "mimetype": "text/x-python",
   "name": "python",
   "nbconvert_exporter": "python",
   "pygments_lexer": "ipython3",
   "version": "3.8.2"
  }
 },
 "nbformat": 4,
 "nbformat_minor": 5
}
